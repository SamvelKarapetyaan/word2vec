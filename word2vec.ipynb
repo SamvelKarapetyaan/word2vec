{
  "cells": [
    {
      "cell_type": "markdown",
      "metadata": {
        "id": "JdJDUBpKPGbp"
      },
      "source": [
        "# Word2Vec implementation"
      ]
    },
    {
      "cell_type": "markdown",
      "metadata": {},
      "source": [
        "# 1. Implementation"
      ]
    },
    {
      "cell_type": "markdown",
      "metadata": {},
      "source": [
        "### Data collecting"
      ]
    },
    {
      "cell_type": "code",
      "execution_count": 2,
      "metadata": {
        "id": "DMgim1D3PGbr"
      },
      "outputs": [],
      "source": [
        "import numpy as np\n",
        "from sklearn.preprocessing import OneHotEncoder\n",
        "import tensorflow as tf\n",
        "import tensorflow.keras.layers as L\n",
        "from multiset import Multiset\n",
        "from tqdm import tqdm\n",
        "import random\n",
        "\n",
        "from sklearn.decomposition import PCA\n",
        "import plotly.graph_objects as go"
      ]
    },
    {
      "cell_type": "code",
      "execution_count": 5,
      "metadata": {
        "colab": {
          "base_uri": "https://localhost:8080/"
        },
        "id": "z-7X-DrmPGbs",
        "outputId": "775155da-63d9-4c61-fdb4-d39280316a30"
      },
      "outputs": [
        {
          "name": "stdout",
          "output_type": "stream",
          "text": [
            "From 25293193 words we got 17535 to vocabulary.\n"
          ]
        }
      ],
      "source": [
        "data = open(\"corpus_100k\", \"r\").read()\n",
        "\n",
        "def lower(txt):\n",
        "  return txt.lower()\n",
        "\n",
        "data_split = list(map(lower, data.split()))\n",
        "\n",
        "data_len = len(data_split)\n",
        "\n",
        "words_counts = Multiset(data_split) # *word*: *count*\n",
        "uniq_words = Multiset(set(data_split)) # *word*: 1\n",
        "\n",
        "words_counts = words_counts - uniq_words * 100 # words used at least 100 times\n",
        "\n",
        "counts_lst = words_counts.values()\n",
        "\n",
        "prob_lst = list(np.array(list(counts_lst)) / sum(counts_lst))\n",
        "\n",
        "vocab_words = list(set(words_counts))\n",
        "vocab_len = len(vocab_words)\n",
        "\n",
        "print(f\"From {data_len} words we got {vocab_len} to vocabulary.\")"
      ]
    },
    {
      "cell_type": "code",
      "execution_count": 6,
      "metadata": {
        "colab": {
          "base_uri": "https://localhost:8080/",
          "height": 75
        },
        "id": "l3U0NfZdPGbs",
        "outputId": "e0e1b569-d0fe-41af-ef56-464835aaf36a"
      },
      "outputs": [
        {
          "data": {
            "text/html": [
              "<style>#sk-container-id-1 {color: black;}#sk-container-id-1 pre{padding: 0;}#sk-container-id-1 div.sk-toggleable {background-color: white;}#sk-container-id-1 label.sk-toggleable__label {cursor: pointer;display: block;width: 100%;margin-bottom: 0;padding: 0.3em;box-sizing: border-box;text-align: center;}#sk-container-id-1 label.sk-toggleable__label-arrow:before {content: \"▸\";float: left;margin-right: 0.25em;color: #696969;}#sk-container-id-1 label.sk-toggleable__label-arrow:hover:before {color: black;}#sk-container-id-1 div.sk-estimator:hover label.sk-toggleable__label-arrow:before {color: black;}#sk-container-id-1 div.sk-toggleable__content {max-height: 0;max-width: 0;overflow: hidden;text-align: left;background-color: #f0f8ff;}#sk-container-id-1 div.sk-toggleable__content pre {margin: 0.2em;color: black;border-radius: 0.25em;background-color: #f0f8ff;}#sk-container-id-1 input.sk-toggleable__control:checked~div.sk-toggleable__content {max-height: 200px;max-width: 100%;overflow: auto;}#sk-container-id-1 input.sk-toggleable__control:checked~label.sk-toggleable__label-arrow:before {content: \"▾\";}#sk-container-id-1 div.sk-estimator input.sk-toggleable__control:checked~label.sk-toggleable__label {background-color: #d4ebff;}#sk-container-id-1 div.sk-label input.sk-toggleable__control:checked~label.sk-toggleable__label {background-color: #d4ebff;}#sk-container-id-1 input.sk-hidden--visually {border: 0;clip: rect(1px 1px 1px 1px);clip: rect(1px, 1px, 1px, 1px);height: 1px;margin: -1px;overflow: hidden;padding: 0;position: absolute;width: 1px;}#sk-container-id-1 div.sk-estimator {font-family: monospace;background-color: #f0f8ff;border: 1px dotted black;border-radius: 0.25em;box-sizing: border-box;margin-bottom: 0.5em;}#sk-container-id-1 div.sk-estimator:hover {background-color: #d4ebff;}#sk-container-id-1 div.sk-parallel-item::after {content: \"\";width: 100%;border-bottom: 1px solid gray;flex-grow: 1;}#sk-container-id-1 div.sk-label:hover label.sk-toggleable__label {background-color: #d4ebff;}#sk-container-id-1 div.sk-serial::before {content: \"\";position: absolute;border-left: 1px solid gray;box-sizing: border-box;top: 0;bottom: 0;left: 50%;z-index: 0;}#sk-container-id-1 div.sk-serial {display: flex;flex-direction: column;align-items: center;background-color: white;padding-right: 0.2em;padding-left: 0.2em;position: relative;}#sk-container-id-1 div.sk-item {position: relative;z-index: 1;}#sk-container-id-1 div.sk-parallel {display: flex;align-items: stretch;justify-content: center;background-color: white;position: relative;}#sk-container-id-1 div.sk-item::before, #sk-container-id-1 div.sk-parallel-item::before {content: \"\";position: absolute;border-left: 1px solid gray;box-sizing: border-box;top: 0;bottom: 0;left: 50%;z-index: -1;}#sk-container-id-1 div.sk-parallel-item {display: flex;flex-direction: column;z-index: 1;position: relative;background-color: white;}#sk-container-id-1 div.sk-parallel-item:first-child::after {align-self: flex-end;width: 50%;}#sk-container-id-1 div.sk-parallel-item:last-child::after {align-self: flex-start;width: 50%;}#sk-container-id-1 div.sk-parallel-item:only-child::after {width: 0;}#sk-container-id-1 div.sk-dashed-wrapped {border: 1px dashed gray;margin: 0 0.4em 0.5em 0.4em;box-sizing: border-box;padding-bottom: 0.4em;background-color: white;}#sk-container-id-1 div.sk-label label {font-family: monospace;font-weight: bold;display: inline-block;line-height: 1.2em;}#sk-container-id-1 div.sk-label-container {text-align: center;}#sk-container-id-1 div.sk-container {/* jupyter's `normalize.less` sets `[hidden] { display: none; }` but bootstrap.min.css set `[hidden] { display: none !important; }` so we also need the `!important` here to be able to override the default hidden behavior on the sphinx rendered scikit-learn.org. See: https://github.com/scikit-learn/scikit-learn/issues/21755 */display: inline-block !important;position: relative;}#sk-container-id-1 div.sk-text-repr-fallback {display: none;}</style><div id=\"sk-container-id-1\" class=\"sk-top-container\"><div class=\"sk-text-repr-fallback\"><pre>OneHotEncoder(sparse_output=False)</pre><b>In a Jupyter environment, please rerun this cell to show the HTML representation or trust the notebook. <br />On GitHub, the HTML representation is unable to render, please try loading this page with nbviewer.org.</b></div><div class=\"sk-container\" hidden><div class=\"sk-item\"><div class=\"sk-estimator sk-toggleable\"><input class=\"sk-toggleable__control sk-hidden--visually\" id=\"sk-estimator-id-1\" type=\"checkbox\" checked><label for=\"sk-estimator-id-1\" class=\"sk-toggleable__label sk-toggleable__label-arrow\">OneHotEncoder</label><div class=\"sk-toggleable__content\"><pre>OneHotEncoder(sparse_output=False)</pre></div></div></div></div></div>"
            ],
            "text/plain": [
              "OneHotEncoder(sparse_output=False)"
            ]
          },
          "execution_count": 6,
          "metadata": {},
          "output_type": "execute_result"
        }
      ],
      "source": [
        "ohe = OneHotEncoder(sparse_output=False)\n",
        "\n",
        "ohe.fit(np.array(vocab_words).reshape(-1, 1))"
      ]
    },
    {
      "cell_type": "code",
      "execution_count": null,
      "metadata": {
        "colab": {
          "base_uri": "https://localhost:8080/",
          "height": 237
        },
        "id": "tZ7ejRBpBce4",
        "outputId": "496f0caf-5ebf-4964-9859-82eaefd9c3fc"
      },
      "outputs": [],
      "source": [
        "# precollect some pairs for speed\n",
        "\n",
        "indices = []\n",
        "\n",
        "for i in tqdm(range(0, data_len, 10)):\n",
        "  if data_split[i] in ohe.categories_[0] and data_split[i + 1] in ohe.categories_[0]:\n",
        "    indices.append(i)"
      ]
    },
    {
      "cell_type": "code",
      "execution_count": null,
      "metadata": {
        "id": "vkxsF04gcON1"
      },
      "outputs": [],
      "source": [
        "def get_sample():\n",
        "  i = random.choice(indices)\n",
        "\n",
        "  x = ohe.transform(np.array(data_split[i]).reshape(-1, 1))\n",
        "  y = ohe.transform(np.array(data_split[i + 1]).reshape(-1, 1))\n",
        "\n",
        "  k = random.choices(vocab_words, k=10, weights=prob_lst) # Use random.choices() with weights\n",
        "  k = ohe.transform(np.array(k).reshape(-1, 1))\n",
        "\n",
        "  return x, y, k"
      ]
    },
    {
      "cell_type": "markdown",
      "metadata": {},
      "source": [
        "### Training"
      ]
    },
    {
      "cell_type": "code",
      "execution_count": null,
      "metadata": {
        "colab": {
          "base_uri": "https://localhost:8080/"
        },
        "id": "n4C7X-P3cjQh",
        "outputId": "05411ef3-61b1-4ffd-b8d9-6158424a13e2"
      },
      "outputs": [],
      "source": [
        "@tf.function\n",
        "def neg_sampling_loss(u_o, v_c, u_k):\n",
        "  return -tf.math.log(tf.math.sigmoid(u_o @ tf.transpose(v_c))) - tf.reduce_mean(tf.math.log(tf.math.sigmoid(- u_k @ tf.transpose(v_c))))\n",
        "\n",
        "# Network\n",
        "input_encoder = L.Input((vocab_len,), name=\"input\")\n",
        "encoder_layer = L.Dense(200, name=\"encoder\", use_bias=False)(input_encoder)\n",
        "decoder_layer = L.Dense(vocab_len, name=\"decoder\", use_bias=False)(encoder_layer)\n",
        "\n",
        "network = tf.keras.Model(input_encoder, decoder_layer)\n",
        "\n",
        "# Optimizer\n",
        "optimizer = tf.keras.optimizers.Adam()\n",
        "\n",
        "# Steps\n",
        "steps = 50000\n",
        "\n",
        "global_loss = 0\n",
        "for i in tqdm(range(steps)):\n",
        "  x, y, k = get_sample()\n",
        "\n",
        "  x, y, k = tf.constant(x, dtype=tf.float32), tf.constant(y, dtype=tf.float32), tf.constant(k, dtype=tf.float32)\n",
        "\n",
        "  with tf.GradientTape() as tape:\n",
        "      u_o = network(x)\n",
        "      u_k = network(k)\n",
        "\n",
        "      loss = neg_sampling_loss(u_o, y, u_k)\n",
        "\n",
        "  # Collect trainable variables\n",
        "  train_vars = network.trainable_variables\n",
        "\n",
        "  # Calculate gradients\n",
        "  grad = tape.gradient(loss, train_vars)\n",
        "\n",
        "  # Apply gradients    \n",
        "  optimizer.apply_gradients(zip(grad, train_vars))\n",
        "\n",
        "  global_loss += loss[0][0]\n",
        "  if i % 500 == 0:\n",
        "    tf.print(\"LOSS: \", global_loss / 500)\n",
        "    global_loss = 0  "
      ]
    },
    {
      "cell_type": "markdown",
      "metadata": {},
      "source": [
        "### Saving"
      ]
    },
    {
      "cell_type": "code",
      "execution_count": null,
      "metadata": {
        "id": "Rj4eIWwSwCMM"
      },
      "outputs": [],
      "source": [
        "network.save_weights(\"word2vec/word2vec.ckpt\")"
      ]
    },
    {
      "cell_type": "markdown",
      "metadata": {},
      "source": [
        "# 2. Visualization"
      ]
    },
    {
      "cell_type": "code",
      "execution_count": 9,
      "metadata": {
        "id": "pd3r7_Q4Rm6S"
      },
      "outputs": [
        {
          "data": {
            "application/vnd.plotly.v1+json": {
              "config": {
                "plotlyServerURL": "https://plot.ly"
              },
              "data": [
                {
                  "mode": "markers+text",
                  "text": [
                    "փուլը",
                    "ենթադրել",
                    "եզրակացություններ",
                    "ընդդիմությանը",
                    "առաջարկով",
                    "հոգեկան",
                    "համալիրը",
                    "այցերը",
                    "հույսերը",
                    "դրվագ",
                    "որոշումն",
                    "միությունների",
                    "գիտնական",
                    "քննարկումների",
                    "գալուն",
                    "մը",
                    "տեղից",
                    "պաշտոնյաներից",
                    "կառույցի",
                    "սկզբունքը",
                    "տոմսեր",
                    "ապօրինությունների",
                    "240",
                    "իմպիչմենտի",
                    "դռների",
                    "շահում",
                    "կարևորեց",
                    "շահագործման",
                    "զորակոչային",
                    "վաղուց",
                    "բուհերի",
                    "քաղբանտարկյալ",
                    "գերեզմանատանը",
                    "ընդմիշտ",
                    "ցամաքային",
                    "բաբլոյանին",
                    "գոտիների",
                    "քիչ",
                    "պռոշյան",
                    "պատահաբար",
                    "գերմանացի",
                    "ֆունտի",
                    "afp-ն",
                    "ցմահ",
                    "զբաղեցնելով",
                    "ֆիլմը",
                    "քանի",
                    "անտառում",
                    "լեզուների",
                    "ավանդույթը",
                    "ծառերի",
                    "դրույքաչափերը",
                    "տոնական",
                    "եժկ",
                    "մրցաշարին",
                    "պրոցեսների",
                    "ունենա",
                    "պողոսյան",
                    "ուսուցում",
                    "ներկայացումը",
                    "թողնելու",
                    "ցուցմունքներ",
                    "ընկալման",
                    "24",
                    "ընտրությունից",
                    "գործկոմի",
                    "էմմա",
                    "գրիգորյանին",
                    "մտքից",
                    "կարո",
                    "այստեղ",
                    "հրապարակած",
                    "վիճակագրություն",
                    "պետ",
                    "նախադրյալներ",
                    "մեխանիզմի",
                    "դեն",
                    "սպորտի",
                    "գեւորգ",
                    "՛",
                    "թիկնազորի",
                    "համաձայնագրեր",
                    "դանիել",
                    "մտս-ի",
                    "վկայի",
                    "կնքման",
                    "անդրադարձավ",
                    "զրուցեցինք",
                    "մեղադրվողը",
                    "ներգրավելու",
                    "երախտագիտության",
                    "հանձնվել",
                    "keeping",
                    "տեղական",
                    "հավաքելու",
                    "արզումանյանը",
                    "օգնեն",
                    "յորքի",
                    "ինտենսիվ",
                    "համեմատում"
                  ],
                  "type": "scatter",
                  "x": [
                    1.417094479958243,
                    4.615190159992067,
                    8.055005320095235,
                    5.281380667926641,
                    5.321468005645352,
                    12.529672809179054,
                    6.0660637782037545,
                    10.970818084187073,
                    4.3162027678407195,
                    1.1610808475100385,
                    2.4212788502751477,
                    0.38933029962276866,
                    -0.5977141584302273,
                    1.8269698587572842,
                    0.20652993565465472,
                    -0.8574527991212976,
                    -3.6898725094214795,
                    0.22435273360554814,
                    2.7384325860839396,
                    1.5787489149492566,
                    1.411523256409836,
                    -4.273389607410762,
                    -0.3653804729578921,
                    1.2932209718586536,
                    -1.2999569041967052,
                    2.0373731016415055,
                    -1.7691912044849507,
                    2.1320405363938515,
                    -1.4643170741725116,
                    1.7469831253337882,
                    -2.7329979191111318,
                    0.6613115495748063,
                    1.473617326449545,
                    3.7948400049330764,
                    0.4509589251883202,
                    -5.492723532933023,
                    -2.455810956701922,
                    -0.9096915017144092,
                    -7.173051941347129,
                    3.258856566930866,
                    2.940210119059023,
                    0.6488931913975141,
                    -7.495301407657066,
                    0.22404005528350457,
                    -2.0479847052769866,
                    2.2553175060616844,
                    1.420465156138865,
                    -7.097920073715953,
                    -3.205113796138586,
                    4.9543444695816925,
                    -0.40451002667790653,
                    -1.0106903337440254,
                    0.7166867998130941,
                    1.237354601530391,
                    -0.611736226239208,
                    -3.76003065508174,
                    0.5823358238330908,
                    -0.861786988615734,
                    1.8483843627664471,
                    1.4111399701735265,
                    -1.6605377098143135,
                    0.15951842853377024,
                    -5.574355285201269,
                    2.271491882913378,
                    1.4181195687965062,
                    -0.21656790697582187,
                    1.6594604058125615,
                    1.4147942226966586,
                    -0.3473187979497146,
                    -3.0708576062135835,
                    0.05501978453973304,
                    0.8148176607882978,
                    1.1650667406985278,
                    1.0115668857666427,
                    0.37310858247752077,
                    5.566522336766848,
                    1.4289164410675492,
                    1.4549689566521404,
                    -0.3615993653939106,
                    -1.3571153142302301,
                    0.7770247904232288,
                    1.4263974154915773,
                    -1.9667549101752484,
                    -7.089966282955727,
                    1.402629042411762,
                    1.4233804118384228,
                    1.8178009575131473,
                    -0.7740335344185904,
                    0.7580965268906441,
                    1.0026929928057184,
                    -4.906790428822881,
                    -2.967794813983597,
                    -1.6323097800895674,
                    4.114167111229468,
                    0.057993825254382805,
                    1.7048482887954,
                    -0.7367368621575001,
                    -3.258548389286546,
                    1.0785514734608377,
                    -3.32270395559134
                  ],
                  "y": [
                    -0.054212739085871584,
                    -0.6682860999749396,
                    -2.2198920355693708,
                    1.0270651337965049,
                    -1.08094394449763,
                    -2.767412804372807,
                    -2.5275026457935135,
                    -1.7309990368535546,
                    -0.49335582513998094,
                    -0.11198207111849907,
                    -0.1867280491747036,
                    0.193665627405949,
                    0.3182930845463197,
                    -0.6655034296965915,
                    0.23649235112105216,
                    1.037611354049647,
                    0.6277991075923172,
                    0.18812824966190977,
                    -0.3382254298372799,
                    0.13539665195421724,
                    -0.056701834146149176,
                    -0.17286939163040285,
                    0.4597851593689743,
                    0.19090736648659337,
                    0.3785225080876014,
                    0.15395299542978377,
                    -0.5398790561084872,
                    -0.20675680740773467,
                    0.17818427386092,
                    -0.0916151212143705,
                    0.5896930581719924,
                    0.22853791387433697,
                    -0.0475910844325231,
                    0.1100048967668368,
                    0.05760463613385962,
                    -0.04383231267155901,
                    0.5423255079620432,
                    0.5092959189194546,
                    -0.9810340754127044,
                    -0.4766182967693073,
                    -0.44490687884995755,
                    0.14085051860087597,
                    -0.3843489556048631,
                    0.24575683223944775,
                    0.3622291708353503,
                    -0.26652280973689857,
                    -0.038319440258915594,
                    0.493933290627802,
                    0.18081225452038213,
                    0.6992715091810792,
                    0.33476654795644273,
                    0.39960604730764776,
                    0.07667469876521488,
                    0.5845754976084772,
                    0.3796465911225973,
                    -0.1987728888291825,
                    0.2290484880360573,
                    0.3373712365538033,
                    -0.3599105610050378,
                    -0.06542714621535727,
                    0.5306031097641899,
                    -0.10511720858988917,
                    -0.29983272276382256,
                    -0.2405741962930016,
                    -0.08834793560975865,
                    0.3586581175173495,
                    -0.3047926305921653,
                    -0.07094707185581009,
                    0.07383642147501124,
                    -0.11224832153519693,
                    0.17018434426403156,
                    -0.04821883160726754,
                    0.4017800673165441,
                    -0.056398687744823955,
                    -0.21966382761236303,
                    0.27008171910768985,
                    -0.08308730951829356,
                    -0.03727962702986488,
                    0.27352450910696474,
                    -0.01996349811027496,
                    0.038116462979053724,
                    -0.05180388138558804,
                    0.48248485930628626,
                    -0.6348397836101971,
                    -0.05114496505657246,
                    -0.055079467758687925,
                    -0.18677969124518526,
                    0.5697349042872659,
                    0.053576107286369974,
                    0.07540717857256372,
                    -0.3371174029819944,
                    0.3542287720905732,
                    -0.6301459483769872,
                    -0.25093043291520184,
                    0.1594320075961647,
                    -0.08668021430710493,
                    -0.03544724885767348,
                    -0.3585806040390176,
                    0.08023695072997897,
                    -0.5436881563850499
                  ]
                }
              ],
              "layout": {
                "template": {
                  "data": {
                    "bar": [
                      {
                        "error_x": {
                          "color": "#2a3f5f"
                        },
                        "error_y": {
                          "color": "#2a3f5f"
                        },
                        "marker": {
                          "line": {
                            "color": "#E5ECF6",
                            "width": 0.5
                          },
                          "pattern": {
                            "fillmode": "overlay",
                            "size": 10,
                            "solidity": 0.2
                          }
                        },
                        "type": "bar"
                      }
                    ],
                    "barpolar": [
                      {
                        "marker": {
                          "line": {
                            "color": "#E5ECF6",
                            "width": 0.5
                          },
                          "pattern": {
                            "fillmode": "overlay",
                            "size": 10,
                            "solidity": 0.2
                          }
                        },
                        "type": "barpolar"
                      }
                    ],
                    "carpet": [
                      {
                        "aaxis": {
                          "endlinecolor": "#2a3f5f",
                          "gridcolor": "white",
                          "linecolor": "white",
                          "minorgridcolor": "white",
                          "startlinecolor": "#2a3f5f"
                        },
                        "baxis": {
                          "endlinecolor": "#2a3f5f",
                          "gridcolor": "white",
                          "linecolor": "white",
                          "minorgridcolor": "white",
                          "startlinecolor": "#2a3f5f"
                        },
                        "type": "carpet"
                      }
                    ],
                    "choropleth": [
                      {
                        "colorbar": {
                          "outlinewidth": 0,
                          "ticks": ""
                        },
                        "type": "choropleth"
                      }
                    ],
                    "contour": [
                      {
                        "colorbar": {
                          "outlinewidth": 0,
                          "ticks": ""
                        },
                        "colorscale": [
                          [
                            0,
                            "#0d0887"
                          ],
                          [
                            0.1111111111111111,
                            "#46039f"
                          ],
                          [
                            0.2222222222222222,
                            "#7201a8"
                          ],
                          [
                            0.3333333333333333,
                            "#9c179e"
                          ],
                          [
                            0.4444444444444444,
                            "#bd3786"
                          ],
                          [
                            0.5555555555555556,
                            "#d8576b"
                          ],
                          [
                            0.6666666666666666,
                            "#ed7953"
                          ],
                          [
                            0.7777777777777778,
                            "#fb9f3a"
                          ],
                          [
                            0.8888888888888888,
                            "#fdca26"
                          ],
                          [
                            1,
                            "#f0f921"
                          ]
                        ],
                        "type": "contour"
                      }
                    ],
                    "contourcarpet": [
                      {
                        "colorbar": {
                          "outlinewidth": 0,
                          "ticks": ""
                        },
                        "type": "contourcarpet"
                      }
                    ],
                    "heatmap": [
                      {
                        "colorbar": {
                          "outlinewidth": 0,
                          "ticks": ""
                        },
                        "colorscale": [
                          [
                            0,
                            "#0d0887"
                          ],
                          [
                            0.1111111111111111,
                            "#46039f"
                          ],
                          [
                            0.2222222222222222,
                            "#7201a8"
                          ],
                          [
                            0.3333333333333333,
                            "#9c179e"
                          ],
                          [
                            0.4444444444444444,
                            "#bd3786"
                          ],
                          [
                            0.5555555555555556,
                            "#d8576b"
                          ],
                          [
                            0.6666666666666666,
                            "#ed7953"
                          ],
                          [
                            0.7777777777777778,
                            "#fb9f3a"
                          ],
                          [
                            0.8888888888888888,
                            "#fdca26"
                          ],
                          [
                            1,
                            "#f0f921"
                          ]
                        ],
                        "type": "heatmap"
                      }
                    ],
                    "heatmapgl": [
                      {
                        "colorbar": {
                          "outlinewidth": 0,
                          "ticks": ""
                        },
                        "colorscale": [
                          [
                            0,
                            "#0d0887"
                          ],
                          [
                            0.1111111111111111,
                            "#46039f"
                          ],
                          [
                            0.2222222222222222,
                            "#7201a8"
                          ],
                          [
                            0.3333333333333333,
                            "#9c179e"
                          ],
                          [
                            0.4444444444444444,
                            "#bd3786"
                          ],
                          [
                            0.5555555555555556,
                            "#d8576b"
                          ],
                          [
                            0.6666666666666666,
                            "#ed7953"
                          ],
                          [
                            0.7777777777777778,
                            "#fb9f3a"
                          ],
                          [
                            0.8888888888888888,
                            "#fdca26"
                          ],
                          [
                            1,
                            "#f0f921"
                          ]
                        ],
                        "type": "heatmapgl"
                      }
                    ],
                    "histogram": [
                      {
                        "marker": {
                          "pattern": {
                            "fillmode": "overlay",
                            "size": 10,
                            "solidity": 0.2
                          }
                        },
                        "type": "histogram"
                      }
                    ],
                    "histogram2d": [
                      {
                        "colorbar": {
                          "outlinewidth": 0,
                          "ticks": ""
                        },
                        "colorscale": [
                          [
                            0,
                            "#0d0887"
                          ],
                          [
                            0.1111111111111111,
                            "#46039f"
                          ],
                          [
                            0.2222222222222222,
                            "#7201a8"
                          ],
                          [
                            0.3333333333333333,
                            "#9c179e"
                          ],
                          [
                            0.4444444444444444,
                            "#bd3786"
                          ],
                          [
                            0.5555555555555556,
                            "#d8576b"
                          ],
                          [
                            0.6666666666666666,
                            "#ed7953"
                          ],
                          [
                            0.7777777777777778,
                            "#fb9f3a"
                          ],
                          [
                            0.8888888888888888,
                            "#fdca26"
                          ],
                          [
                            1,
                            "#f0f921"
                          ]
                        ],
                        "type": "histogram2d"
                      }
                    ],
                    "histogram2dcontour": [
                      {
                        "colorbar": {
                          "outlinewidth": 0,
                          "ticks": ""
                        },
                        "colorscale": [
                          [
                            0,
                            "#0d0887"
                          ],
                          [
                            0.1111111111111111,
                            "#46039f"
                          ],
                          [
                            0.2222222222222222,
                            "#7201a8"
                          ],
                          [
                            0.3333333333333333,
                            "#9c179e"
                          ],
                          [
                            0.4444444444444444,
                            "#bd3786"
                          ],
                          [
                            0.5555555555555556,
                            "#d8576b"
                          ],
                          [
                            0.6666666666666666,
                            "#ed7953"
                          ],
                          [
                            0.7777777777777778,
                            "#fb9f3a"
                          ],
                          [
                            0.8888888888888888,
                            "#fdca26"
                          ],
                          [
                            1,
                            "#f0f921"
                          ]
                        ],
                        "type": "histogram2dcontour"
                      }
                    ],
                    "mesh3d": [
                      {
                        "colorbar": {
                          "outlinewidth": 0,
                          "ticks": ""
                        },
                        "type": "mesh3d"
                      }
                    ],
                    "parcoords": [
                      {
                        "line": {
                          "colorbar": {
                            "outlinewidth": 0,
                            "ticks": ""
                          }
                        },
                        "type": "parcoords"
                      }
                    ],
                    "pie": [
                      {
                        "automargin": true,
                        "type": "pie"
                      }
                    ],
                    "scatter": [
                      {
                        "fillpattern": {
                          "fillmode": "overlay",
                          "size": 10,
                          "solidity": 0.2
                        },
                        "type": "scatter"
                      }
                    ],
                    "scatter3d": [
                      {
                        "line": {
                          "colorbar": {
                            "outlinewidth": 0,
                            "ticks": ""
                          }
                        },
                        "marker": {
                          "colorbar": {
                            "outlinewidth": 0,
                            "ticks": ""
                          }
                        },
                        "type": "scatter3d"
                      }
                    ],
                    "scattercarpet": [
                      {
                        "marker": {
                          "colorbar": {
                            "outlinewidth": 0,
                            "ticks": ""
                          }
                        },
                        "type": "scattercarpet"
                      }
                    ],
                    "scattergeo": [
                      {
                        "marker": {
                          "colorbar": {
                            "outlinewidth": 0,
                            "ticks": ""
                          }
                        },
                        "type": "scattergeo"
                      }
                    ],
                    "scattergl": [
                      {
                        "marker": {
                          "colorbar": {
                            "outlinewidth": 0,
                            "ticks": ""
                          }
                        },
                        "type": "scattergl"
                      }
                    ],
                    "scattermapbox": [
                      {
                        "marker": {
                          "colorbar": {
                            "outlinewidth": 0,
                            "ticks": ""
                          }
                        },
                        "type": "scattermapbox"
                      }
                    ],
                    "scatterpolar": [
                      {
                        "marker": {
                          "colorbar": {
                            "outlinewidth": 0,
                            "ticks": ""
                          }
                        },
                        "type": "scatterpolar"
                      }
                    ],
                    "scatterpolargl": [
                      {
                        "marker": {
                          "colorbar": {
                            "outlinewidth": 0,
                            "ticks": ""
                          }
                        },
                        "type": "scatterpolargl"
                      }
                    ],
                    "scatterternary": [
                      {
                        "marker": {
                          "colorbar": {
                            "outlinewidth": 0,
                            "ticks": ""
                          }
                        },
                        "type": "scatterternary"
                      }
                    ],
                    "surface": [
                      {
                        "colorbar": {
                          "outlinewidth": 0,
                          "ticks": ""
                        },
                        "colorscale": [
                          [
                            0,
                            "#0d0887"
                          ],
                          [
                            0.1111111111111111,
                            "#46039f"
                          ],
                          [
                            0.2222222222222222,
                            "#7201a8"
                          ],
                          [
                            0.3333333333333333,
                            "#9c179e"
                          ],
                          [
                            0.4444444444444444,
                            "#bd3786"
                          ],
                          [
                            0.5555555555555556,
                            "#d8576b"
                          ],
                          [
                            0.6666666666666666,
                            "#ed7953"
                          ],
                          [
                            0.7777777777777778,
                            "#fb9f3a"
                          ],
                          [
                            0.8888888888888888,
                            "#fdca26"
                          ],
                          [
                            1,
                            "#f0f921"
                          ]
                        ],
                        "type": "surface"
                      }
                    ],
                    "table": [
                      {
                        "cells": {
                          "fill": {
                            "color": "#EBF0F8"
                          },
                          "line": {
                            "color": "white"
                          }
                        },
                        "header": {
                          "fill": {
                            "color": "#C8D4E3"
                          },
                          "line": {
                            "color": "white"
                          }
                        },
                        "type": "table"
                      }
                    ]
                  },
                  "layout": {
                    "annotationdefaults": {
                      "arrowcolor": "#2a3f5f",
                      "arrowhead": 0,
                      "arrowwidth": 1
                    },
                    "autotypenumbers": "strict",
                    "coloraxis": {
                      "colorbar": {
                        "outlinewidth": 0,
                        "ticks": ""
                      }
                    },
                    "colorscale": {
                      "diverging": [
                        [
                          0,
                          "#8e0152"
                        ],
                        [
                          0.1,
                          "#c51b7d"
                        ],
                        [
                          0.2,
                          "#de77ae"
                        ],
                        [
                          0.3,
                          "#f1b6da"
                        ],
                        [
                          0.4,
                          "#fde0ef"
                        ],
                        [
                          0.5,
                          "#f7f7f7"
                        ],
                        [
                          0.6,
                          "#e6f5d0"
                        ],
                        [
                          0.7,
                          "#b8e186"
                        ],
                        [
                          0.8,
                          "#7fbc41"
                        ],
                        [
                          0.9,
                          "#4d9221"
                        ],
                        [
                          1,
                          "#276419"
                        ]
                      ],
                      "sequential": [
                        [
                          0,
                          "#0d0887"
                        ],
                        [
                          0.1111111111111111,
                          "#46039f"
                        ],
                        [
                          0.2222222222222222,
                          "#7201a8"
                        ],
                        [
                          0.3333333333333333,
                          "#9c179e"
                        ],
                        [
                          0.4444444444444444,
                          "#bd3786"
                        ],
                        [
                          0.5555555555555556,
                          "#d8576b"
                        ],
                        [
                          0.6666666666666666,
                          "#ed7953"
                        ],
                        [
                          0.7777777777777778,
                          "#fb9f3a"
                        ],
                        [
                          0.8888888888888888,
                          "#fdca26"
                        ],
                        [
                          1,
                          "#f0f921"
                        ]
                      ],
                      "sequentialminus": [
                        [
                          0,
                          "#0d0887"
                        ],
                        [
                          0.1111111111111111,
                          "#46039f"
                        ],
                        [
                          0.2222222222222222,
                          "#7201a8"
                        ],
                        [
                          0.3333333333333333,
                          "#9c179e"
                        ],
                        [
                          0.4444444444444444,
                          "#bd3786"
                        ],
                        [
                          0.5555555555555556,
                          "#d8576b"
                        ],
                        [
                          0.6666666666666666,
                          "#ed7953"
                        ],
                        [
                          0.7777777777777778,
                          "#fb9f3a"
                        ],
                        [
                          0.8888888888888888,
                          "#fdca26"
                        ],
                        [
                          1,
                          "#f0f921"
                        ]
                      ]
                    },
                    "colorway": [
                      "#636efa",
                      "#EF553B",
                      "#00cc96",
                      "#ab63fa",
                      "#FFA15A",
                      "#19d3f3",
                      "#FF6692",
                      "#B6E880",
                      "#FF97FF",
                      "#FECB52"
                    ],
                    "font": {
                      "color": "#2a3f5f"
                    },
                    "geo": {
                      "bgcolor": "white",
                      "lakecolor": "white",
                      "landcolor": "#E5ECF6",
                      "showlakes": true,
                      "showland": true,
                      "subunitcolor": "white"
                    },
                    "hoverlabel": {
                      "align": "left"
                    },
                    "hovermode": "closest",
                    "mapbox": {
                      "style": "light"
                    },
                    "paper_bgcolor": "white",
                    "plot_bgcolor": "#E5ECF6",
                    "polar": {
                      "angularaxis": {
                        "gridcolor": "white",
                        "linecolor": "white",
                        "ticks": ""
                      },
                      "bgcolor": "#E5ECF6",
                      "radialaxis": {
                        "gridcolor": "white",
                        "linecolor": "white",
                        "ticks": ""
                      }
                    },
                    "scene": {
                      "xaxis": {
                        "backgroundcolor": "#E5ECF6",
                        "gridcolor": "white",
                        "gridwidth": 2,
                        "linecolor": "white",
                        "showbackground": true,
                        "ticks": "",
                        "zerolinecolor": "white"
                      },
                      "yaxis": {
                        "backgroundcolor": "#E5ECF6",
                        "gridcolor": "white",
                        "gridwidth": 2,
                        "linecolor": "white",
                        "showbackground": true,
                        "ticks": "",
                        "zerolinecolor": "white"
                      },
                      "zaxis": {
                        "backgroundcolor": "#E5ECF6",
                        "gridcolor": "white",
                        "gridwidth": 2,
                        "linecolor": "white",
                        "showbackground": true,
                        "ticks": "",
                        "zerolinecolor": "white"
                      }
                    },
                    "shapedefaults": {
                      "line": {
                        "color": "#2a3f5f"
                      }
                    },
                    "ternary": {
                      "aaxis": {
                        "gridcolor": "white",
                        "linecolor": "white",
                        "ticks": ""
                      },
                      "baxis": {
                        "gridcolor": "white",
                        "linecolor": "white",
                        "ticks": ""
                      },
                      "bgcolor": "#E5ECF6",
                      "caxis": {
                        "gridcolor": "white",
                        "linecolor": "white",
                        "ticks": ""
                      }
                    },
                    "title": {
                      "x": 0.05
                    },
                    "xaxis": {
                      "automargin": true,
                      "gridcolor": "white",
                      "linecolor": "white",
                      "ticks": "",
                      "title": {
                        "standoff": 15
                      },
                      "zerolinecolor": "white",
                      "zerolinewidth": 2
                    },
                    "yaxis": {
                      "automargin": true,
                      "gridcolor": "white",
                      "linecolor": "white",
                      "ticks": "",
                      "title": {
                        "standoff": 15
                      },
                      "zerolinecolor": "white",
                      "zerolinewidth": 2
                    }
                  }
                }
              }
            }
          },
          "metadata": {},
          "output_type": "display_data"
        }
      ],
      "source": [
        "input_encoder = L.Input((vocab_len,), name=\"input\")\n",
        "encoder_layer = L.Dense(200, name=\"encoder\", use_bias=False)(input_encoder)\n",
        "decoder_layer = L.Dense(vocab_len, name=\"decoder\", use_bias=False)(encoder_layer)\n",
        "\n",
        "network = tf.keras.Model(input_encoder, decoder_layer)\n",
        "\n",
        "network.load_weights(\"word2vec/word2vec.ckpt\")\n",
        "\n",
        "embeddings_np = network.weights[0]\n",
        "transformed = PCA(n_components=2).fit_transform(embeddings_np)\n",
        "\n",
        "x_1, x_2 = transformed[:, 0][:100], transformed[:, 1][:100]\n",
        "\n",
        "fig = go.Figure()\n",
        "\n",
        "fig.add_trace(go.Scatter(x=x_1, y=x_2, mode=\"markers+text\", text=list(vocab_words)[:100]))"
      ]
    }
  ],
  "metadata": {
    "accelerator": "GPU",
    "colab": {
      "gpuType": "T4",
      "provenance": []
    },
    "kernelspec": {
      "display_name": "Python 3",
      "name": "python3"
    },
    "language_info": {
      "codemirror_mode": {
        "name": "ipython",
        "version": 3
      },
      "file_extension": ".py",
      "mimetype": "text/x-python",
      "name": "python",
      "nbconvert_exporter": "python",
      "pygments_lexer": "ipython3",
      "version": "3.11.4"
    },
    "orig_nbformat": 4
  },
  "nbformat": 4,
  "nbformat_minor": 0
}
